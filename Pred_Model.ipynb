{
 "cells": [
  {
   "cell_type": "code",
   "execution_count": 17,
   "metadata": {},
   "outputs": [],
   "source": [
    "import pandas as pd\n",
    "import numpy as np\n",
    "import warnings\n",
    "from sklearn.linear_model import LinearRegression\n",
    "from sklearn.metrics import mean_squared_error, r2_score\n",
    "from sklearn.model_selection import train_test_split\n",
    "\n",
    "#Extra settings\n",
    "pd.set_option('display.max_columns', None)\n",
    "pd.set_option('display.max_rows', None)\n",
    "pd.set_option('display.max_colwidth', None)\n",
    "warnings.filterwarnings(\"ignore\")"
   ]
  },
  {
   "cell_type": "code",
   "execution_count": 4,
   "metadata": {},
   "outputs": [
    {
     "name": "stdout",
     "output_type": "stream",
     "text": [
      "Train df shape:  (86584, 14)\n",
      "Test df shape:  (6576, 13)\n"
     ]
    }
   ],
   "source": [
    "#Loading train and test data\n",
    "try:\n",
    "    train_df=pd.read_csv('/home/anuragverma/Desktop/Kaggle/GeoAI Ground-level NO2 _Zindi/Datasets/Train.csv')\n",
    "    test_df=pd.read_csv('/home/anuragverma/Desktop/Kaggle/GeoAI Ground-level NO2 _Zindi/Datasets/Test.csv')\n",
    "    print(\"Train df shape: \" ,train_df.shape)\n",
    "    print(\"Test df shape: \", test_df.shape)\n",
    "\n",
    "except FileNotFoundError:\n",
    "    print('File not loaded')"
   ]
  },
  {
   "cell_type": "code",
   "execution_count": 8,
   "metadata": {},
   "outputs": [
    {
     "name": "stdout",
     "output_type": "stream",
     "text": [
      "<class 'pandas.core.frame.DataFrame'>\n",
      "RangeIndex: 86584 entries, 0 to 86583\n",
      "Data columns (total 14 columns):\n",
      " #   Column              Non-Null Count  Dtype  \n",
      "---  ------              --------------  -----  \n",
      " 0   ID_Zindi            86584 non-null  object \n",
      " 1   Date                86584 non-null  object \n",
      " 2   ID                  86584 non-null  object \n",
      " 3   LAT                 86584 non-null  float64\n",
      " 4   LON                 86584 non-null  float64\n",
      " 5   Precipitation       86584 non-null  float64\n",
      " 6   LST                 46798 non-null  float64\n",
      " 7   AAI                 73709 non-null  float64\n",
      " 8   CloudFraction       73709 non-null  float64\n",
      " 9   NO2_strat           73709 non-null  float64\n",
      " 10  NO2_total           73709 non-null  float64\n",
      " 11  NO2_trop            51111 non-null  float64\n",
      " 12  TropopausePressure  73709 non-null  float64\n",
      " 13  GT_NO2              82051 non-null  float64\n",
      "dtypes: float64(11), object(3)\n",
      "memory usage: 9.2+ MB\n"
     ]
    }
   ],
   "source": [
    "train_df.info()"
   ]
  },
  {
   "cell_type": "code",
   "execution_count": 23,
   "metadata": {},
   "outputs": [
    {
     "name": "stdout",
     "output_type": "stream",
     "text": [
      "(69267, 10) (17317, 10) (69267,) (17317,)\n"
     ]
    }
   ],
   "source": [
    "#Creating  a bechmark model using num cols and evaluating it.\n",
    "train_df_benchmark_num=train_df.select_dtypes(include='number')\n",
    "\n",
    "X=train_df_benchmark_num.drop(['GT_NO2'],axis=1)\n",
    "y=train_df_benchmark_num['GT_NO2']\n",
    "\n",
    "X=X.fillna(0)\n",
    "y=y.fillna(0)\n",
    "\n",
    "X_train, X_test, y_train, y_test = train_test_split(X, y, test_size=0.2, random_state=42)\n",
    "print(X_train.shape, X_test.shape, y_train.shape, y_test.shape)\n",
    "\n",
    "# model=LinearRegression()\n",
    "# model.fit(X,y)\n",
    "# y_pred=model.predict(X)\n",
    "\n",
    "# # print(\"R2 Score: \",r2_score(y,y_pred))"
   ]
  },
  {
   "cell_type": "code",
   "execution_count": 24,
   "metadata": {},
   "outputs": [
    {
     "name": "stdout",
     "output_type": "stream",
     "text": [
      "Mean Squared Error: 182.40370236092463\n",
      "Root Mean Squared Error: 13.505691480295432\n",
      "R-squared: 0.4026951110506707\n"
     ]
    }
   ],
   "source": [
    "# Initialize the linear regression model\n",
    "model = LinearRegression()\n",
    "\n",
    "# Train the model\n",
    "model.fit(X_train, y_train)\n",
    "\n",
    "# Make predictions on the test set\n",
    "y_pred = model.predict(X_test)\n",
    "\n",
    "# Evaluate the model\n",
    "mse = mean_squared_error(y_test, y_pred)\n",
    "rmse = np.sqrt(mse)\n",
    "r2 = r2_score(y_test, y_pred)\n",
    "\n",
    "print(f'Mean Squared Error: {mse}')\n",
    "print(f'Root Mean Squared Error: {rmse}')\n",
    "print(f'R-squared: {r2}')"
   ]
  },
  {
   "cell_type": "code",
   "execution_count": null,
   "metadata": {},
   "outputs": [],
   "source": [
    "#Creation of model 2. \n",
    "#)Doing EDA to understand what features needs to be engineered\n"
   ]
  },
  {
   "cell_type": "code",
   "execution_count": null,
   "metadata": {},
   "outputs": [],
   "source": []
  }
 ],
 "metadata": {
  "kernelspec": {
   "display_name": "Python 3",
   "language": "python",
   "name": "python3"
  },
  "language_info": {
   "codemirror_mode": {
    "name": "ipython",
    "version": 3
   },
   "file_extension": ".py",
   "mimetype": "text/x-python",
   "name": "python",
   "nbconvert_exporter": "python",
   "pygments_lexer": "ipython3",
   "version": "3.12.3"
  }
 },
 "nbformat": 4,
 "nbformat_minor": 2
}
